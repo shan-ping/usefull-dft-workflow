{
 "cells": [
  {
   "cell_type": "markdown",
   "id": "130cb1d8",
   "metadata": {},
   "source": [
    "# Calculate the bader charge to identify the charge transfer"
   ]
  },
  {
   "cell_type": "markdown",
   "id": "b3bccd7d",
   "metadata": {},
   "source": [
    "## Cd the file that you want to calculate the bader charge you shuold put the INCAR(for scf calculation)"
   ]
  },
  {
   "cell_type": "code",
   "execution_count": 2,
   "id": "6674ced5",
   "metadata": {},
   "outputs": [
    {
     "name": "stdout",
     "output_type": "stream",
     "text": [
      " 100K   298K\t\t\t\t  INCARscf1   INCARsr1\r\n",
      " 230K  'bader charge calculation.ipynb'   INCARsr     PbTa2Se4workflow.ipynb\r\n"
     ]
    }
   ],
   "source": [
    "!ls"
   ]
  },
  {
   "cell_type": "code",
   "execution_count": null,
   "id": "4a4b3986",
   "metadata": {},
   "outputs": [],
   "source": [
    "!cd "
   ]
  },
  {
   "cell_type": "code",
   "execution_count": 8,
   "id": "12f00862",
   "metadata": {},
   "outputs": [],
   "source": [
    "#!mkdir bader\n",
    "with open(\"./INCAR\", encoding=\"utf-8\",mode=\"a\") as file:  \n",
    "    file.write(\"\\n\\nLAECHG=.TRUE. !for bader charge calculation\")  \n",
    "    file.write(\"\\nNGXF=(please put a number) !the grid for CHGCAR file along the a vector\")\n",
    "    file.write(\"\\nNGYF=(please put a number) !the grid for CHGCAR file along the b vector\")\n",
    "    file.write(\"\\nNGZF=(please put a number) !the grid for CHGCAR file along the c vector\")"
   ]
  },
  {
   "cell_type": "markdown",
   "id": "a6a7cd66",
   "metadata": {},
   "source": [
    "## Then run the vasp to do DFT calculation"
   ]
  },
  {
   "cell_type": "markdown",
   "id": "ad5fc2b7",
   "metadata": {},
   "source": [
    "## Arfter finishing the calculation the result should contain the AECCAR0 AECCAR1 AECCAR2 and CHGCAR file"
   ]
  },
  {
   "cell_type": "code",
   "execution_count": 6,
   "id": "f83e4dfb",
   "metadata": {},
   "outputs": [],
   "source": [
    "!chgsum.pl AECCAR0 AECCAR2"
   ]
  },
  {
   "cell_type": "markdown",
   "id": "8de7e082",
   "metadata": {},
   "source": [
    "## Then get the CHGCAR_sum file "
   ]
  },
  {
   "cell_type": "code",
   "execution_count": 7,
   "id": "a7a66e99",
   "metadata": {},
   "outputs": [],
   "source": [
    "!bader CHGCAR -ref CHGCAR_sum"
   ]
  },
  {
   "cell_type": "markdown",
   "id": "2e77b9c8",
   "metadata": {},
   "source": [
    "## You should make sure the charge converged when NG(XYZ)F increased "
   ]
  },
  {
   "cell_type": "code",
   "execution_count": null,
   "id": "a709b8b7",
   "metadata": {},
   "outputs": [],
   "source": []
  },
  {
   "cell_type": "code",
   "execution_count": null,
   "id": "e0eb7dad",
   "metadata": {},
   "outputs": [],
   "source": []
  }
 ],
 "metadata": {
  "kernelspec": {
   "display_name": "Python 3",
   "language": "python",
   "name": "python3"
  },
  "language_info": {
   "codemirror_mode": {
    "name": "ipython",
    "version": 3
   },
   "file_extension": ".py",
   "mimetype": "text/x-python",
   "name": "python",
   "nbconvert_exporter": "python",
   "pygments_lexer": "ipython3",
   "version": "3.8.8"
  }
 },
 "nbformat": 4,
 "nbformat_minor": 5
}
